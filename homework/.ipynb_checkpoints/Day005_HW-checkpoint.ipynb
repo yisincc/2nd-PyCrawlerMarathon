{
 "cells": [
  {
   "cell_type": "markdown",
   "metadata": {},
   "source": [
    "# API 資料串接 - 以 Dcard API 實作範例\n",
    "\n",
    "* 了解 Dcard API 使用方式與回傳內容\n",
    "* 撰寫程式存取 API 且解析 JSON 格式資料\n"
   ]
  },
  {
   "cell_type": "markdown",
   "metadata": {},
   "source": [
    "## 作業目標\n",
    "\n",
    "* 請利用 API: https://www.dcard.tw/_api/forums/pet/posts?popular=true 回答下列問題：\n",
    "\n",
    "1. 這個 API 一次會回傳幾筆資料？每一筆資料包含哪些欄位？\n",
    "2. 取出每一筆資料的「標題」、「貼文時間」、「留言人數」、「按讚人數」\n",
    "3. 計算熱門/非熱門文章的「平均留言人數」與「平均按讚人數」"
   ]
  },
  {
   "cell_type": "code",
   "execution_count": 31,
   "metadata": {},
   "outputs": [
    {
     "name": "stdout",
     "output_type": "stream",
     "text": [
      "30\n",
      "id\n",
      "title\n",
      "excerpt\n",
      "anonymousSchool\n",
      "anonymousDepartment\n",
      "pinned\n",
      "forumId\n",
      "replyId\n",
      "createdAt\n",
      "updatedAt\n",
      "commentCount\n",
      "likeCount\n",
      "withNickname\n",
      "tags\n",
      "topics\n",
      "meta\n",
      "forumName\n",
      "forumAlias\n",
      "nsfw\n",
      "gender\n",
      "school\n",
      "department\n",
      "replyTitle\n",
      "mediaMeta\n",
      "reactions\n",
      "hidden\n",
      "customStyle\n",
      "isSuspiciousAccount\n",
      "layout\n",
      "withImages\n",
      "withVideos\n",
      "media\n",
      "reportReasonText\n",
      "postAvatar\n"
     ]
    }
   ],
   "source": [
    "# 1. 這個 API 一次會回傳幾筆資料？每一筆資料包含哪些欄位？\n",
    "import requests\n",
    "import json\n",
    "\n",
    "r = requests.get('https://www.dcard.tw/_api/forums/pet/posts?popular=true')\n",
    "response = r.text\n",
    "\n",
    "data = json.loads(response)\n",
    "\n",
    "#print(data)\n",
    "# 幾筆資料\n",
    "print(len(data))\n",
    "\n",
    "\n",
    "# 有哪些欄位\n",
    "for d in data[0]:\n",
    "    print(d) \n",
    "\n"
   ]
  },
  {
   "cell_type": "code",
   "execution_count": 27,
   "metadata": {},
   "outputs": [
    {
     "name": "stdout",
     "output_type": "stream",
     "text": [
      "我家柯基被比特犬咬斷下巴..., 2020-04-18T05:39:55.913Z, comment: 663, like:8076\n",
      "我只是想曬柯基寶寶～（圖多）, 2020-04-18T10:05:16.103Z, comment: 21, like:463\n",
      "#尋狗啟示 請大家幫我推上去🙏🏻, 2020-04-18T09:07:18.406Z, comment: 8, like:117\n",
      "在學校倉庫撿到的奶貓🐈🐱Part2., 2020-04-18T07:31:02.749Z, comment: 8, like:80\n",
      "寵物真的有感情, 2020-04-18T18:28:59.967Z, comment: 0, like:54\n",
      "我是米漿我愛亂尿尿🐶, 2020-04-17T20:15:13.744Z, comment: 3, like:50\n",
      "堅持不喝掉最後一口水的黃大扣, 2020-04-18T12:33:31.936Z, comment: 0, like:38\n",
      "抱枕狗🐶, 2020-04-18T15:45:06.724Z, comment: 3, like:35\n",
      "請！問！東！海 ！的！同！學！, 2020-04-18T16:15:28.851Z, comment: 19, like:23\n",
      "原來吉娃娃是防疫高手😂, 2020-04-18T11:03:14.823Z, comment: 3, like:22\n",
      "幫貓咪做一個紙箱國度！, 2020-04-18T07:18:56.550Z, comment: 1, like:20\n",
      "如果是爬蟲，你應該去買（文長慎入, 2020-04-18T14:12:38.283Z, comment: 3, like:16\n",
      "我要代替月亮懲罰你~, 2020-04-18T08:56:06.960Z, comment: 15, like:16\n",
      "壞掉的博美, 2020-04-18T07:06:44.129Z, comment: 0, like:16\n",
      "溫和的寶貝蛇蛇, 2020-04-18T14:57:19.667Z, comment: 11, like:14\n",
      "彰化市貓咪走失, 2020-04-18T04:30:06.065Z, comment: 3, like:12\n",
      "白眼柴, 2020-04-18T19:13:35.918Z, comment: 0, like:11\n",
      "宜蘭長毛臘腸走失, 2020-04-18T10:34:54.479Z, comment: 0, like:10\n",
      "看看我家的狗 完美呈現了*累的跟狗一樣*這句話, 2020-04-18T06:38:53.141Z, comment: 1, like:9\n",
      "想曬曬我家弟弟, 2020-04-18T18:46:50.516Z, comment: 0, like:8\n",
      "越啃越快🤣, 2020-04-18T17:25:48.079Z, comment: 0, like:8\n",
      "柴犬-米修與歐歐, 2020-04-18T13:44:36.479Z, comment: 0, like:7\n",
      "同一隻？, 2020-04-19T04:15:16.461Z, comment: 0, like:6\n",
      "曬魚文, 2020-04-18T00:33:10.878Z, comment: 1, like:6\n",
      "這是誰家的鼠鼠！！通緝中, 2020-04-19T05:30:51.986Z, comment: 1, like:5\n",
      "寵物咬傷他人寵物, 2020-04-19T03:01:17.462Z, comment: 0, like:5\n",
      "台南市貓咪走失, 2020-04-18T20:09:04.264Z, comment: 0, like:5\n",
      "五告野小, 2020-04-18T18:16:26.529Z, comment: 0, like:5\n",
      "#問 倉鼠的家都放了什麼, 2020-04-18T08:46:44.016Z, comment: 8, like:5\n",
      "我就性感🐰, 2020-04-18T19:18:24.513Z, comment: 4, like:4\n"
     ]
    }
   ],
   "source": [
    "# 2. 取出每一筆資料的「標題」、「貼文時間」、「留言人數」、「按讚人數」\n",
    "\n",
    "\n",
    "for d in data:\n",
    "    comment = d['commentCount']\n",
    "    like = d['likeCount']\n",
    "    print(d['title']+ ', '+d['createdAt']+', comment:',str(comment)+', like:'+str(like))\n"
   ]
  },
  {
   "cell_type": "code",
   "execution_count": 46,
   "metadata": {},
   "outputs": [
    {
     "name": "stdout",
     "output_type": "stream",
     "text": [
      "30\n",
      "popular article => avg_comment:28.5, avg_like:340.0\n",
      "30\n",
      "unpopular article => avg_comment:0.9666666666666667, avg_like:2.8333333333333335\n"
     ]
    }
   ],
   "source": [
    "# 3. 計算熱門/非熱門文章的「平均留言人數」與「平均按讚人數」\n",
    "\n",
    "# 熱門文章\n",
    "\n",
    "r = requests.get('https://www.dcard.tw/_api/forums/pet/posts?popular=true')\n",
    "response = r.text\n",
    "data = json.loads(response)\n",
    "\n",
    "print(len(data))\n",
    "\n",
    "c_common=0\n",
    "c_like=0\n",
    "for d in data:\n",
    "    comment = d['commentCount']\n",
    "    c_common =c_common+comment\n",
    "    like = d['likeCount']\n",
    "    c_like=c_like+like\n",
    "    #print(d['title']+ 'comment:'+str(comment)+', count comment:'+str(c_common)+', like:'+str(c_like))\n",
    "\n",
    "avg_comment = c_common/len(data)\n",
    "avg_like = c_like/len(data)\n",
    "print('popular article => avg_comment:'+str(avg_comment)+', avg_like:'+str(avg_like))    \n",
    "    \n",
    "#print('avg comment'+ str(c_common/len(data))\n",
    "#print('avg like'+ str(c_clike/len(data))\n",
    "\n",
    "# 非熱門文章\n",
    "f_r = requests.get('https://www.dcard.tw/_api/forums/pet/posts?popular=false')\n",
    "f_response = f_r.text\n",
    "f_data = json.loads(f_response)\n",
    "print(len(f_data))\n",
    "\n",
    "fc_common=0\n",
    "fc_like=0\n",
    "for d in f_data:\n",
    "    f_comment = d['commentCount']\n",
    "    fc_common =fc_common+f_comment\n",
    "    f_like = d['likeCount']\n",
    "    fc_like=fc_like+f_like\n",
    "    #print(d['title']+ 'comment:'+str(comment)+', count comment:'+str(c_common)+', like:'+str(c_like))\n",
    "\n",
    "avg_f_comment = fc_common/len(f_data)\n",
    "avg_f_like = fc_like/len(f_data)\n",
    "print('unpopular article => avg_comment:'+str(avg_f_comment)+', avg_like:'+str(avg_f_like)) \n"
   ]
  },
  {
   "cell_type": "code",
   "execution_count": null,
   "metadata": {},
   "outputs": [],
   "source": []
  },
  {
   "cell_type": "code",
   "execution_count": null,
   "metadata": {},
   "outputs": [],
   "source": []
  }
 ],
 "metadata": {
  "celltoolbar": "Slideshow",
  "kernelspec": {
   "display_name": "Python 3",
   "language": "python",
   "name": "python3"
  },
  "language_info": {
   "codemirror_mode": {
    "name": "ipython",
    "version": 3
   },
   "file_extension": ".py",
   "mimetype": "text/x-python",
   "name": "python",
   "nbconvert_exporter": "python",
   "pygments_lexer": "ipython3",
   "version": "3.7.1"
  }
 },
 "nbformat": 4,
 "nbformat_minor": 2
}

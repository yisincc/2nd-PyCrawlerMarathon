{
 "cells": [
  {
   "cell_type": "markdown",
   "metadata": {},
   "source": [
    "# Python 下載XML檔案與解析\n",
    "\n",
    "\n",
    "* 了解 xml 檔案格式與內容\n",
    "* 能夠利用套件存取 xml 格式的檔案\n"
   ]
  },
  {
   "cell_type": "markdown",
   "metadata": {},
   "source": [
    "## 作業目標\n",
    "\n",
    "* 比較一下範例檔案中的「File I/O」與「xmltodict」讀出來的內容有什麼差異\n",
    "\n",
    "* 根據範例檔案的結果：\n",
    "    1. 請問高雄市有多少地區有溫度資料？\n",
    "    2. 請取出每一個地區所記錄的第一個時間點跟溫度\n",
    "    3. 請取出第一個地區所記錄的每一個時間點跟溫度"
   ]
  },
  {
   "cell_type": "markdown",
   "metadata": {},
   "source": [
    "### 比較一下範例檔案中的「File I/O」與「xmltodict」讀出來的內容有什麼差異\n"
   ]
  },
  {
   "cell_type": "code",
   "execution_count": 4,
   "metadata": {},
   "outputs": [
    {
     "name": "stdout",
     "output_type": "stream",
     "text": [
      "<?xml version=\"1.0\" encoding=\"UTF-8\"?>\n",
      "<CUPOY>\n",
      "    <Title>爬蟲馬拉松</Title>\n",
      "    <Author>Wei</Author>\n",
      "    <Chapters>\n",
      "        <Chapter name=\"01\">資料來源與存取</Chapter>\n",
      "        <Chapter name=\"02\">靜態網頁爬蟲</Chapter>\n",
      "        <Chapter name=\"03\">動態網頁爬蟲</Chapter>\n",
      "    </Chapters>\n",
      "</CUPOY>\n",
      "爬蟲馬拉松\n",
      "01 資料來源與存取\n",
      "02 靜態網頁爬蟲\n",
      "03 動態網頁爬蟲\n"
     ]
    }
   ],
   "source": [
    "# File I/O 讀檔案\n",
    "fh = open(\"./Data/Day003/sample.xml\", \"r\",encoding=\"utf-8\")\n",
    "xml = fh.read()\n",
    "fh.close()\n",
    "print(xml)\n",
    "\n",
    "\n",
    "# xmltodict 讀檔案\n",
    "import xmltodict\n",
    "# 存取檔案\n",
    "with open('./Data/Day003/sample.xml',encoding=\"utf-8\") as fd:\n",
    "    doc = dict(xmltodict.parse(fd.read()))\n",
    "\n",
    "# 存取我們的資訊\n",
    "print(doc['CUPOY']['Title'])\n",
    "\n",
    "# 用迴圈存取我們的資訊\n",
    "chapters = doc['CUPOY']['Chapters']['Chapter']\n",
    "for chapter in chapters:\n",
    "    print (chapter['@name'], chapter['#text'])"
   ]
  },
  {
   "cell_type": "markdown",
   "metadata": {},
   "source": [
    "### 根據範例檔案的結果：\n",
    "\n",
    "1. 請問高雄市有多少地區有溫度資料？\n",
    "2. 請取出每一個地區所記錄的第一個時間點跟溫度\n",
    "3. 請取出第一個地區所記錄的每一個時間點跟溫度"
   ]
  },
  {
   "cell_type": "code",
   "execution_count": 23,
   "metadata": {},
   "outputs": [
    {
     "name": "stdout",
     "output_type": "stream",
     "text": [
      "38\n"
     ]
    }
   ],
   "source": [
    "# 1. 請問高雄市有多少地區有溫度資料？\n",
    "import xmltodict\n",
    "\n",
    "# 打开文件\n",
    "fh = open(\"./Data/64_72hr_CH.xml\", \"r\",encoding=\"utf-8\")\n",
    "xml = fh.read()\n",
    "fh.close()\n",
    "\n",
    "#把xml 轉成dict方便讀取\n",
    "d = dict(xmltodict.parse(xml))\n",
    "\n",
    "#\n",
    "locations = d['cwbopendata']['dataset']['locations']['location']\n",
    "print(len(locations))\n",
    "\n",
    "\n"
   ]
  },
  {
   "cell_type": "code",
   "execution_count": 31,
   "metadata": {},
   "outputs": [
    {
     "name": "stdout",
     "output_type": "stream",
     "text": [
      "鹽埕區\n",
      "2020-04-19T12:00:00+08:00,攝氏度30\n",
      "鼓山區\n",
      "2020-04-19T12:00:00+08:00,攝氏度30\n",
      "左營區\n",
      "2020-04-19T12:00:00+08:00,攝氏度30\n",
      "楠梓區\n",
      "2020-04-19T12:00:00+08:00,攝氏度30\n",
      "三民區\n",
      "2020-04-19T12:00:00+08:00,攝氏度29\n",
      "新興區\n",
      "2020-04-19T12:00:00+08:00,攝氏度30\n",
      "前金區\n",
      "2020-04-19T12:00:00+08:00,攝氏度30\n",
      "苓雅區\n",
      "2020-04-19T12:00:00+08:00,攝氏度30\n",
      "前鎮區\n",
      "2020-04-19T12:00:00+08:00,攝氏度30\n",
      "旗津區\n",
      "2020-04-19T12:00:00+08:00,攝氏度29\n",
      "小港區\n",
      "2020-04-19T12:00:00+08:00,攝氏度31\n",
      "鳳山區\n",
      "2020-04-19T12:00:00+08:00,攝氏度31\n",
      "林園區\n",
      "2020-04-19T12:00:00+08:00,攝氏度30\n",
      "大寮區\n",
      "2020-04-19T12:00:00+08:00,攝氏度31\n",
      "大樹區\n",
      "2020-04-19T12:00:00+08:00,攝氏度31\n",
      "大社區\n",
      "2020-04-19T12:00:00+08:00,攝氏度31\n",
      "仁武區\n",
      "2020-04-19T12:00:00+08:00,攝氏度30\n",
      "鳥松區\n",
      "2020-04-19T12:00:00+08:00,攝氏度31\n",
      "岡山區\n",
      "2020-04-19T12:00:00+08:00,攝氏度31\n",
      "橋頭區\n",
      "2020-04-19T12:00:00+08:00,攝氏度31\n",
      "燕巢區\n",
      "2020-04-19T12:00:00+08:00,攝氏度31\n",
      "田寮區\n",
      "2020-04-19T12:00:00+08:00,攝氏度31\n",
      "阿蓮區\n",
      "2020-04-19T12:00:00+08:00,攝氏度31\n",
      "路竹區\n",
      "2020-04-19T12:00:00+08:00,攝氏度31\n",
      "湖內區\n",
      "2020-04-19T12:00:00+08:00,攝氏度30\n",
      "茄萣區\n",
      "2020-04-19T12:00:00+08:00,攝氏度29\n",
      "永安區\n",
      "2020-04-19T12:00:00+08:00,攝氏度29\n",
      "彌陀區\n",
      "2020-04-19T12:00:00+08:00,攝氏度29\n",
      "梓官區\n",
      "2020-04-19T12:00:00+08:00,攝氏度30\n",
      "旗山區\n",
      "2020-04-19T12:00:00+08:00,攝氏度32\n",
      "美濃區\n",
      "2020-04-19T12:00:00+08:00,攝氏度33\n",
      "六龜區\n",
      "2020-04-19T12:00:00+08:00,攝氏度32\n",
      "甲仙區\n",
      "2020-04-19T12:00:00+08:00,攝氏度34\n",
      "杉林區\n",
      "2020-04-19T12:00:00+08:00,攝氏度34\n",
      "內門區\n",
      "2020-04-19T12:00:00+08:00,攝氏度33\n",
      "茂林區\n",
      "2020-04-19T12:00:00+08:00,攝氏度33\n",
      "桃源區\n",
      "2020-04-19T12:00:00+08:00,攝氏度32\n",
      "那瑪夏區\n",
      "2020-04-19T12:00:00+08:00,攝氏度29\n"
     ]
    }
   ],
   "source": [
    "# 2. 請取出每一個地區所記錄的第一個時間點跟溫度\n",
    "\n",
    "locations = d['cwbopendata']['dataset']['locations']['location']\n",
    "\n",
    "for lo in locations:\n",
    "    print(lo['locationName'])\n",
    "    time = lo['weatherElement'][0]['time'][0]['dataTime']\n",
    "    temp = lo['weatherElement'][0]['time'][0]['elementValue']['value']\n",
    "    measures = lo['weatherElement'][0]['time'][0]['elementValue']['measures']\n",
    "    print(time +\",\"+measures+temp)"
   ]
  },
  {
   "cell_type": "code",
   "execution_count": 36,
   "metadata": {},
   "outputs": [
    {
     "name": "stdout",
     "output_type": "stream",
     "text": [
      "鹽埕區\n",
      "2020-04-19T12:00:00+08:00,攝氏度30\n",
      "2020-04-19T15:00:00+08:00,攝氏度30\n",
      "2020-04-19T18:00:00+08:00,攝氏度28\n",
      "2020-04-19T21:00:00+08:00,攝氏度26\n",
      "2020-04-20T00:00:00+08:00,攝氏度25\n",
      "2020-04-20T03:00:00+08:00,攝氏度24\n",
      "2020-04-20T06:00:00+08:00,攝氏度23\n",
      "2020-04-20T09:00:00+08:00,攝氏度26\n",
      "2020-04-20T12:00:00+08:00,攝氏度29\n",
      "2020-04-20T15:00:00+08:00,攝氏度29\n",
      "2020-04-20T18:00:00+08:00,攝氏度27\n",
      "2020-04-20T21:00:00+08:00,攝氏度26\n",
      "2020-04-21T00:00:00+08:00,攝氏度24\n",
      "2020-04-21T03:00:00+08:00,攝氏度23\n",
      "2020-04-21T06:00:00+08:00,攝氏度22\n",
      "2020-04-21T09:00:00+08:00,攝氏度25\n",
      "2020-04-21T12:00:00+08:00,攝氏度29\n",
      "2020-04-21T15:00:00+08:00,攝氏度29\n",
      "2020-04-21T18:00:00+08:00,攝氏度26\n",
      "2020-04-21T21:00:00+08:00,攝氏度25\n",
      "2020-04-22T00:00:00+08:00,攝氏度24\n",
      "2020-04-22T03:00:00+08:00,攝氏度22\n",
      "2020-04-22T06:00:00+08:00,攝氏度22\n",
      "2020-04-22T09:00:00+08:00,攝氏度25\n"
     ]
    }
   ],
   "source": [
    "# 3. 請取出第一個地區所記錄的每一個時間點跟溫度\n",
    "\n",
    "firstLoc = d['cwbopendata']['dataset']['locations']['location']\n",
    "print(firstLoc[0]['locationName'])\n",
    "\n",
    "for data in firstLoc[0]['weatherElement'][0]['time']:\n",
    "    temp = data['elementValue']\n",
    "    print(data['dataTime']+\",\"+temp['measures']+temp['value'])"
   ]
  },
  {
   "cell_type": "code",
   "execution_count": null,
   "metadata": {},
   "outputs": [],
   "source": []
  }
 ],
 "metadata": {
  "kernelspec": {
   "display_name": "Python 3",
   "language": "python",
   "name": "python3"
  },
  "language_info": {
   "codemirror_mode": {
    "name": "ipython",
    "version": 3
   },
   "file_extension": ".py",
   "mimetype": "text/x-python",
   "name": "python",
   "nbconvert_exporter": "python",
   "pygments_lexer": "ipython3",
   "version": "3.7.1"
  }
 },
 "nbformat": 4,
 "nbformat_minor": 2
}

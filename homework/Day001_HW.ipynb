{
 "cells": [
  {
   "cell_type": "markdown",
   "metadata": {},
   "source": [
    "Q1 檔案、API、爬蟲三種取得資料方式有什麼不同？\n",
    "\n",
    "    檔案: 資料擁有者主動釋出,資料會包成檔案提供下載,例如以CSV、JSON等等通用格式。\n",
    "\n",
    "    API: 資料擁有者主動釋出，提供程式化的連接接口,讓工程師取得需要的資訊。\n",
    "\n",
    "    爬蟲: 資料擁有者被動公開的。資料沒有以檔案或API提供，但出現在網頁上。可以利用爬蟲程式，將網頁的資料解析所需的部分。"
   ]
  },
  {
   "cell_type": "code",
   "execution_count": 7,
   "metadata": {},
   "outputs": [
    {
     "name": "stdout",
     "output_type": "stream",
     "text": [
      "find!\n",
      "Homework.txt\n",
      "11\n",
      "same number\n"
     ]
    }
   ],
   "source": [
    "Q2\n",
    "##### 下載指定檔案到 Data 資料夾，存成檔名 Homework.txt\n",
    "from urllib.request import urlretrieve\n",
    "urlretrieve (\"https://www.w3.org/TR/PNG/iso_8859-1.txt\", \"./Data/Homework.txt\") \n",
    "\n",
    "\n",
    "#####  檢查 Data 資料夾是否有 Homework.txt 檔名之檔案\n",
    "import os, sys\n",
    "dirs = os.listdir( './Data' )\n",
    "# 顯示所有文件\n",
    "for file in dirs:\n",
    "    if os.path.basename(file) == \"Homework.txt\" :\n",
    "        print(\"find!\")\n",
    "\n",
    "import os, fnmatch\n",
    "for f_name in os.listdir('./Data'):\n",
    "    if fnmatch.fnmatch(f_name, 'Homework.txt'):\n",
    "        print(f_name)\n",
    "        \n",
    "        \n",
    "#####  將「Hello World」字串覆寫到 Homework.txt 檔案   \n",
    "with open(\"./example1.txt\", \"r\") as fh: \n",
    "    exStr = fh.read()\n",
    "    \n",
    "with open(\"./Data/Homework.txt\", \"w\") as fh: \n",
    "    fh.write(exStr)\n",
    "    \n",
    "\n",
    "#####  檢查 Homework.txt 檔案字數是否符合 Hello World 字數\n",
    "with open(\"./Data/Homework.txt\",\"r\") as filename:\n",
    "    total_words = 0\n",
    "    for line in filename:\n",
    "        total_words = total_words + len(line)\n",
    "        print(total_words)\n",
    "        \n",
    "strLen = len(exStr)\n",
    "if total_words == strLen:\n",
    "    print(\"same number\")"
   ]
  },
  {
   "cell_type": "code",
   "execution_count": null,
   "metadata": {},
   "outputs": [],
   "source": []
  },
  {
   "cell_type": "code",
   "execution_count": null,
   "metadata": {},
   "outputs": [],
   "source": []
  }
 ],
 "metadata": {
  "kernelspec": {
   "display_name": "Python 3",
   "language": "python",
   "name": "python3"
  },
  "language_info": {
   "codemirror_mode": {
    "name": "ipython",
    "version": 3
   },
   "file_extension": ".py",
   "mimetype": "text/x-python",
   "name": "python",
   "nbconvert_exporter": "python",
   "pygments_lexer": "ipython3",
   "version": "3.7.1"
  }
 },
 "nbformat": 4,
 "nbformat_minor": 2
}
